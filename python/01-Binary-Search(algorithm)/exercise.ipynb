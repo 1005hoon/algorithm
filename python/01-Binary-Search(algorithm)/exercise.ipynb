{
 "cells": [
  {
   "cell_type": "code",
   "execution_count": 4,
   "metadata": {},
   "outputs": [],
   "source": [
    "def binarySearch(arr, target):\n",
    "    # 양 끝에 index 설정\n",
    "    left = 0\n",
    "    right = len(arr) - 1\n",
    "    \n",
    "    while (left <= right):\n",
    "        # //는 나눈 나머지의 소수점자리를 제외한 값을 return         \n",
    "        mid = (left+right) // 2 \n",
    "        \n",
    "        # 만약 찾은 중간값이 결과값과 같다면 바로 리턴\n",
    "        if (arr[mid] == target):\n",
    "            return mid\n",
    "        # 만약 타겟값이 중간값보다 크다면, left를 mid + 1으로 설정\n",
    "        elif (arr[mid] < target):\n",
    "            left = mid + 1\n",
    "        # 만약 타겟값이 중간값보다 작다면, right를 mid로 설정\n",
    "        else:\n",
    "            right = mid - 1\n",
    "    # while loop을 통해 찾지 못했다면 실패\n",
    "    return -1\n",
    "    \n",
    "    "
   ]
  },
  {
   "cell_type": "code",
   "execution_count": 6,
   "metadata": {},
   "outputs": [
    {
     "name": "stdout",
     "output_type": "stream",
     "text": [
      "index 위치 5에서 찾았습니다!\n"
     ]
    }
   ],
   "source": [
    "arr = [1, 2, 3, 4, 5, 6]\n",
    "target = 6\n",
    "\n",
    "result = binarySearch(arr, target) # returns index\n",
    "\n",
    "if result != -1:\n",
    "    print(f\"index 위치 {result}에서 찾았습니다!\")\n",
    "else:\n",
    "    print(\"찾지 못했습니다\")"
   ]
  }
 ],
 "metadata": {
  "kernelspec": {
   "display_name": "Python 3",
   "language": "python",
   "name": "python3"
  },
  "language_info": {
   "codemirror_mode": {
    "name": "ipython",
    "version": 3
   },
   "file_extension": ".py",
   "mimetype": "text/x-python",
   "name": "python",
   "nbconvert_exporter": "python",
   "pygments_lexer": "ipython3",
   "version": "3.8.4rc1"
  }
 },
 "nbformat": 4,
 "nbformat_minor": 4
}
