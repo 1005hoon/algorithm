{
 "cells": [
  {
   "cell_type": "code",
   "execution_count": 2,
   "metadata": {},
   "outputs": [
    {
     "name": "stdout",
     "output_type": "stream",
     "text": [
      "190\n"
     ]
    }
   ],
   "source": [
    "def maxSum(arr, windowSize):\n",
    "    arraySize = len(arr)\n",
    "    # 만약 주어진 array의 길이가 우리가 최대 합을 찾고자 하는 수의 갯수보다 적으면 실패\n",
    "    if (arraySize <= windowSize):\n",
    "        print(\"array에 숫자가 부족합니다\")\n",
    "        return -1\n",
    "    \n",
    "    window_sum = sum([arr[i] for i in range(windowSize)])\n",
    "    max_sum = window_sum\n",
    "    \n",
    "    # 총 작업할 수 있는 수를 활용하여 loop 실행\n",
    "    for i in range(arraySize - windowSize):\n",
    "        # window의 가장 앞의 수를 빼고, 윈도우 마지막 수의 바로 다음 수를 더하기\n",
    "        window_sum = window_sum - arr[i] + arr[i + windowSize]\n",
    "        # 최대값 비교\n",
    "        max_sum = max(window_sum, max_sum)\n",
    "    \n",
    "    return max_sum\n",
    "\n",
    "arr = [80, -50, 90, 100]\n",
    "k = 2\n",
    "answer = maxSum(arr, k)\n",
    "print(answer)"
   ]
  }
 ],
 "metadata": {
  "kernelspec": {
   "display_name": "Python 3",
   "language": "python",
   "name": "python3"
  },
  "language_info": {
   "codemirror_mode": {
    "name": "ipython",
    "version": 3
   },
   "file_extension": ".py",
   "mimetype": "text/x-python",
   "name": "python",
   "nbconvert_exporter": "python",
   "pygments_lexer": "ipython3",
   "version": "3.8.4rc1"
  }
 },
 "nbformat": 4,
 "nbformat_minor": 4
}
