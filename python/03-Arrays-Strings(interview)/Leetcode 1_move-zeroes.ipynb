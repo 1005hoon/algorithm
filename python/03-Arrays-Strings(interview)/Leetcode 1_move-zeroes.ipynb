{
 "cells": [
  {
   "cell_type": "markdown",
   "metadata": {},
   "source": [
    "# Move Zeroes 문제\n",
    "\n",
    "Integer로 이루어진 array에 있는 모든 0들을 다른 숫자들의 기존 정렬을 유지하면서 가장 끝으로 이동시키세요\n",
    "\n",
    "### 예:\n",
    "\n",
    "```\n",
    "Input: [0, 1, 0, 3, 12]\n",
    "Expected Output: [1, 3, 12, 0, 0]\n",
    "```\n",
    "\n",
    "## 사용 알고리즘:\n",
    "\n",
    "0들을 일단 다 array의 끝으로 이동시키기보단, 0이 아닌 애들을 array의 앞으로 이동시키고,\n",
    "총 몇개의 숫자들을 이동시켰는지 카운트를 기록해보자\n",
    "\n",
    "```\n",
    "[0, 1, 0, 3, 12] -> [1, 3, 12, 0, 0]\n",
    "```\n",
    "\n",
    "이처럼 0이 아닌 수들을 다 array의 앞으로 이동시키고, 총 몇개의 숫자들을 이동시켰는지 기록하게 된다면\n",
    "총 0의 개수도 파악이 가능하다\n",
    "\n",
    "예를들어, 0이 아닌 수의 갯수를 `j` 라고 하면, 위의 array중 0이 아닌 수는 `1, 3, 12`, 총 3개이다.\n",
    "따라서 `j == 12`가 나오게 되는데, 그 뜻은 `array[0:j]` 까지는 0이 아닌수로 채워져있고, 나머지는 다 0이라는 이야기가 된다!\n",
    "\n",
    "그럼 전략을 세워보자.\n",
    "\n",
    "### step 1. pointer j를 array의 앞에 생성하자\n",
    "```\n",
    "j = 0\n",
    "\n",
    "input = [0, 1, 0, 3, 12]\n",
    "```\n",
    "\n",
    "### step 2. 각각의 element를 루프하자\n",
    "```\n",
    "j = 0\n",
    "\n",
    "input = [0, 1, 0, 3, 12]\n",
    "\n",
    "for num in input:\n",
    "```\n",
    "\n",
    "### step 3. 지금 위치의 값이 0이 아니라면, j를 하나씩 더해준다\n",
    "```\n",
    "j = 0\n",
    "\n",
    "input = [0, 1, 0, 3, 12]\n",
    "\n",
    "for num in input:\n",
    "    if (num != 0):\n",
    "        j += 1\n",
    "        input[j] = num\n",
    "```\n",
    "\n",
    "### 루프가 끝난 뒤에, array[j] 의 위치부터 마지막까지는 0으로 채워준다\n",
    "```\n",
    "j = 0\n",
    "\n",
    "solution = []\n",
    "input = [0, 1, 0, 3, 12]\n",
    "\n",
    "for num in input:\n",
    "    if (num != 0):\n",
    "        j += 1\n",
    "        input[j] = num\n",
    "\n",
    "for index in range(j, len(input)):\n",
    "    input[index] = 0\n",
    "```\n"
   ]
  },
  {
   "cell_type": "code",
   "execution_count": 2,
   "metadata": {},
   "outputs": [
    {
     "ename": "NameError",
     "evalue": "name 'numArr' is not defined",
     "output_type": "error",
     "traceback": [
      "\u001b[1;31m---------------------------------------------------------------------------\u001b[0m",
      "\u001b[1;31mNameError\u001b[0m                                 Traceback (most recent call last)",
      "\u001b[1;32m<ipython-input-2-85055853076f>\u001b[0m in \u001b[0;36m<module>\u001b[1;34m\u001b[0m\n\u001b[1;32m----> 1\u001b[1;33m \u001b[1;32mclass\u001b[0m \u001b[0mSolution\u001b[0m\u001b[1;33m:\u001b[0m\u001b[1;33m\u001b[0m\u001b[1;33m\u001b[0m\u001b[0m\n\u001b[0m\u001b[0;32m      2\u001b[0m         \u001b[0mj\u001b[0m \u001b[1;33m=\u001b[0m \u001b[1;36m0\u001b[0m\u001b[1;33m\u001b[0m\u001b[1;33m\u001b[0m\u001b[0m\n\u001b[0;32m      3\u001b[0m         \u001b[0mn\u001b[0m \u001b[1;33m=\u001b[0m \u001b[0mlen\u001b[0m\u001b[1;33m(\u001b[0m\u001b[0mnumArr\u001b[0m\u001b[1;33m)\u001b[0m\u001b[1;33m\u001b[0m\u001b[1;33m\u001b[0m\u001b[0m\n\u001b[0;32m      4\u001b[0m         \u001b[1;32mfor\u001b[0m \u001b[0mnum\u001b[0m \u001b[1;32min\u001b[0m \u001b[0mnumArr\u001b[0m\u001b[1;33m:\u001b[0m\u001b[1;33m\u001b[0m\u001b[1;33m\u001b[0m\u001b[0m\n\u001b[0;32m      5\u001b[0m             \u001b[1;32mif\u001b[0m \u001b[1;33m(\u001b[0m\u001b[0mnum\u001b[0m \u001b[1;33m!=\u001b[0m \u001b[1;36m0\u001b[0m\u001b[1;33m)\u001b[0m\u001b[1;33m:\u001b[0m\u001b[1;33m\u001b[0m\u001b[1;33m\u001b[0m\u001b[0m\n",
      "\u001b[1;32m<ipython-input-2-85055853076f>\u001b[0m in \u001b[0;36mSolution\u001b[1;34m()\u001b[0m\n\u001b[0;32m      1\u001b[0m \u001b[1;32mclass\u001b[0m \u001b[0mSolution\u001b[0m\u001b[1;33m:\u001b[0m\u001b[1;33m\u001b[0m\u001b[1;33m\u001b[0m\u001b[0m\n\u001b[0;32m      2\u001b[0m         \u001b[0mj\u001b[0m \u001b[1;33m=\u001b[0m \u001b[1;36m0\u001b[0m\u001b[1;33m\u001b[0m\u001b[1;33m\u001b[0m\u001b[0m\n\u001b[1;32m----> 3\u001b[1;33m         \u001b[0mn\u001b[0m \u001b[1;33m=\u001b[0m \u001b[0mlen\u001b[0m\u001b[1;33m(\u001b[0m\u001b[0mnumArr\u001b[0m\u001b[1;33m)\u001b[0m\u001b[1;33m\u001b[0m\u001b[1;33m\u001b[0m\u001b[0m\n\u001b[0m\u001b[0;32m      4\u001b[0m         \u001b[1;32mfor\u001b[0m \u001b[0mnum\u001b[0m \u001b[1;32min\u001b[0m \u001b[0mnumArr\u001b[0m\u001b[1;33m:\u001b[0m\u001b[1;33m\u001b[0m\u001b[1;33m\u001b[0m\u001b[0m\n\u001b[0;32m      5\u001b[0m             \u001b[1;32mif\u001b[0m \u001b[1;33m(\u001b[0m\u001b[0mnum\u001b[0m \u001b[1;33m!=\u001b[0m \u001b[1;36m0\u001b[0m\u001b[1;33m)\u001b[0m\u001b[1;33m:\u001b[0m\u001b[1;33m\u001b[0m\u001b[1;33m\u001b[0m\u001b[0m\n",
      "\u001b[1;31mNameError\u001b[0m: name 'numArr' is not defined"
     ]
    }
   ],
   "source": [
    "class Solution:\n",
    "    def moveZeroes(self, numArr)\n",
    "        j = 0\n",
    "        n = len(numArr)\n",
    "        for num in numArr:\n",
    "            if (num != 0):\n",
    "                numArr[j] = num\n",
    "                j += 1\n",
    "        for i in range(j, n):\n",
    "            numArr[i] = 0\n",
    "        "
   ]
  },
  {
   "cell_type": "code",
   "execution_count": null,
   "metadata": {},
   "outputs": [],
   "source": []
  }
 ],
 "metadata": {
  "kernelspec": {
   "display_name": "Python 3",
   "language": "python",
   "name": "python3"
  },
  "language_info": {
   "codemirror_mode": {
    "name": "ipython",
    "version": 3
   },
   "file_extension": ".py",
   "mimetype": "text/x-python",
   "name": "python",
   "nbconvert_exporter": "python",
   "pygments_lexer": "ipython3",
   "version": "3.8.4rc1"
  }
 },
 "nbformat": 4,
 "nbformat_minor": 4
}
