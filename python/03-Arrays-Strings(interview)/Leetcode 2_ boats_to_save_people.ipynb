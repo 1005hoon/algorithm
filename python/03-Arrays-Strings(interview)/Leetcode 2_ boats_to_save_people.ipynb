{
 "cells": [
  {
   "cell_type": "markdown",
   "metadata": {},
   "source": [
    "# Boats to Save People 문제\n",
    "\n",
    "### 문제\n",
    "사람들이 물에 빠졌습니다. 보트를 사용해 구조를 해야하는 상황입니다.\n",
    "물에 빠진 사람들의 몸무게가 array로 주어지며,  각각의 보트는 구조할 수 있는 무게의 최대치가 존재합니다.\n",
    "\n",
    "보트 하나당 하중 가능한 무게 안에서는, 최대 2명의 사람을 동시에 구조할 수 있습니다.\n",
    "\n",
    "그러면 모든 인원을 구조하는데 필요한 가능한 최소한의 보트 수를 구하세요.\n",
    "\n",
    "\n",
    "### 주의점\n",
    "1. 보트 하나당 최대 2명까지 구조할 수 있다\n",
    "2. 물에 빠진 인원의 체중은 보트 하중 가능한 무게 최대치와 같거나 작다 (즉 구하지 못하는 인원은 없음)\n",
    "3. worst case의 경우, 1명의 구조를 위해 1개의 보트를 사용하는 경우이다.\n",
    "\n",
    "### Test Case\n",
    "``` \n",
    "Test Case 1.\n",
    "people: [1, 2]    # 물에 빠진 인원들의 몸무게\n",
    "limit: 3    # 보트에 최대 실을 수 있는 최대 무게\n",
    "\n",
    "answer: 1    # 몸무게가 1인 사람 한명과, 2인사람 한명을 합치면 3이기때문에 보트 1대로 모두 이동이 가능\n",
    "\n",
    "\n",
    "Test Case 2.\n",
    "people: [1, 2, 2, 3]\n",
    "limit: 3\n",
    "\n",
    "answer: 3    # 3인사람 한번, [1, 2] 합쳐서 두번, 마지막 2인사람 세번\n",
    "```\n",
    "\n",
    "### 사용 알고리즘\n",
    "\n",
    "가장 먼저 array를 sort한다\n",
    "\n",
    "그 다음, 가장 무거운사람과 가장 가벼운 사람을 같은 보트에 태운다\n",
    "\n",
    "그럼 문제는, 어떻게 가장 무겅누사람과 가벼운사람을 하나씩 태울 수 있을까?\n",
    "\n",
    "**1. 가장 왼쪽과 오른쪽에 포인터 생성**\n",
    "```\n",
    "left = 0\n",
    "right = people.length - 1\n",
    "boats_number = 0\n",
    "```\n",
    "\n",
    "**2. 오른쪽 포인터가 왼쪽과 같거나 큰동안 루프**\n",
    "```\n",
    "while (left <= right)\n",
    "```\n",
    "\n",
    "**3. 왼쪽이랑 오른쪽 포인터가 같다면, boats_number += 1 후 break**\n",
    "```\n",
    "이건 이제 혼자 남은 케이스\n",
    "if (left == right) {\n",
    "    boat_number += 1\n",
    "    break\n",
    "```\n",
    "\n",
    "**4. 왼쪽과 오른쪽의 합이 limit보다 작거나 같다면, 보트에 한명 태우고, 포인터 이동**\n",
    "```\n",
    "둘의 합이 태울수 있는 최대 무게보다 작다면 바로 태우기\n",
    "if (people[left] + people[right] <= limit) {\n",
    "    boat_number += 1\n",
    "    left += 1\n",
    "    right -= 1\n",
    "}\n",
    "```\n",
    "**5. 만약 왼쪽과 오른쪽의 무게를 합한게 limit을 초과한다면, right를 하나 이동시킨후 동작 **\n",
    "```\n",
    "둘의 합이 최대무게보다 크다면, 무거운애를 혼자 태우기\n",
    "if (people[left] + people[right] <= limit) {\n",
    "    right -= 1\n",
    "    boat_number += 1\n",
    "}\n",
    "```"
   ]
  },
  {
   "cell_type": "code",
   "execution_count": 17,
   "metadata": {},
   "outputs": [],
   "source": [
    "class Solution:\n",
    "    def rescueBoatNum(self, people, limit):\n",
    "        people.sort()\n",
    "        left = 0\n",
    "        right = len(people) - 1\n",
    "        num_of_boats = 0\n",
    "        \n",
    "        while (left <= right):\n",
    "            if (left == right):\n",
    "                num_of_boats += 1\n",
    "                break\n",
    "            if (people[left] + people[right] <= limit): \n",
    "                left += 1\n",
    "                # break가 없으니 어차피 밑에있는 코드들도 실행되기때문에, if에 걸리지 않는다면 아래 코드까지 실행\n",
    "            right -= 1\n",
    "            num_of_boats += 1\n",
    "            \n",
    "        \n",
    "        return num_of_boats"
   ]
  },
  {
   "cell_type": "code",
   "execution_count": 18,
   "metadata": {},
   "outputs": [
    {
     "name": "stdout",
     "output_type": "stream",
     "text": [
      "3\n"
     ]
    }
   ],
   "source": [
    "boats = Solution()\n",
    "\n",
    "print(boats.rescueBoatNum([1, 2, 2, 3], 3))"
   ]
  }
 ],
 "metadata": {
  "kernelspec": {
   "display_name": "Python 3",
   "language": "python",
   "name": "python3"
  },
  "language_info": {
   "codemirror_mode": {
    "name": "ipython",
    "version": 3
   },
   "file_extension": ".py",
   "mimetype": "text/x-python",
   "name": "python",
   "nbconvert_exporter": "python",
   "pygments_lexer": "ipython3",
   "version": "3.8.4rc1"
  }
 },
 "nbformat": 4,
 "nbformat_minor": 4
}
