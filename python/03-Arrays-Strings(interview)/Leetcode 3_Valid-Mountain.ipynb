{
 "cells": [
  {
   "cell_type": "markdown",
   "metadata": {},
   "source": [
    "# Valid Mountain 문제\n",
    "\n",
    "### 문제\n",
    "interger를 담은 array가 주어졌을때, 다음과 같은 조건이 충족되면 true를 리턴하세요\n",
    "\n",
    "조건:\n",
    "- array의 크기는 3보다 크거나 같다\n",
    "- 다음과 같이 동작하는 index가 있다\n",
    "```\n",
    "a[0] < a[1] < ... < a[i]\n",
    "a[i] > a[i + 1] > ... > a[a.size - 1]\n",
    "```\n",
    "\n",
    "\n",
    "### Test Case\n",
    "이런 류의 문제는 일단 array의 값이 증가하다가 감소하는 형식을 띄고 있습니다\n",
    "\n",
    "예를 들어, \n",
    "`[3, 5, 5]` 의 경우는 증가하고 감소하지 않으니 `false`\n",
    "\n",
    "`[0, 3, 2, 1]` 의 경우는 증가 후 감소하니 `true` 입니다\n",
    "\n",
    "### 사용 알고리즘\n",
    "\n",
    "**1. 가장 처음에 시작하는 수에 인덱스를 지정**\n",
    "```\n",
    "i = 1\n",
    "```\n",
    "\n",
    "**2. increasing 하는 동안 index도 증가**\n",
    "```\n",
    "i = 1\n",
    "while (i < len(A) and A[i] > A[i-1]):\n",
    "  i ++\n",
    "```\n",
    "\n",
    "**3. index가 이동하지 않거나, array의 끝에 닿았다면 return false**\n",
    "```\n",
    "if (i == 1 or i == len(A)):\n",
    "  return False\n",
    "```\n",
    "\n",
    "**4. index의 위치부터 값이 decreasing하는 동안 index도 증가**\n",
    "```\n",
    "while (i < len(A) and A[i] < A[i-1]):\n",
    "  i += 1\n",
    "```\n",
    "**5. 인덱스가 가장 끝에 다다르면 true를 return**\n",
    "```\n",
    "return i == len(A)\n",
    "```"
   ]
  },
  {
   "cell_type": "code",
   "execution_count": 7,
   "metadata": {},
   "outputs": [],
   "source": [
    "class Solution:\n",
    "    def isMountainArray(self, A):\n",
    "        # 3보다 작은지 확인\n",
    "        if (len(A) < 3):\n",
    "            return False\n",
    "        i = 1\n",
    "        \n",
    "        # A[i]가 이전값보다 크고, len(A)보다 i가 작은경우 실행\n",
    "        while (i < len(A) and A[i] > A[i-1]):\n",
    "            i += 1\n",
    "        \n",
    "        if (i == 1 or i == len(A)):\n",
    "            return False\n",
    "        \n",
    "        while (i < len(A) and A[i] < A[i-1]):\n",
    "            i += 1\n",
    "            \n",
    "        return i == len(A)"
   ]
  },
  {
   "cell_type": "code",
   "execution_count": 9,
   "metadata": {},
   "outputs": [
    {
     "name": "stdout",
     "output_type": "stream",
     "text": [
      "False\n",
      "True\n"
     ]
    }
   ],
   "source": [
    "mountainArr = Solution()\n",
    "print(mountainArr.isMountainArray([1,1,2,3,1]))\n",
    "print(mountainArr.isMountainArray([1,2,4,3,1]))"
   ]
  },
  {
   "cell_type": "code",
   "execution_count": null,
   "metadata": {},
   "outputs": [],
   "source": []
  }
 ],
 "metadata": {
  "kernelspec": {
   "display_name": "Python 3",
   "language": "python",
   "name": "python3"
  },
  "language_info": {
   "codemirror_mode": {
    "name": "ipython",
    "version": 3
   },
   "file_extension": ".py",
   "mimetype": "text/x-python",
   "name": "python",
   "nbconvert_exporter": "python",
   "pygments_lexer": "ipython3",
   "version": "3.8.4rc1"
  }
 },
 "nbformat": 4,
 "nbformat_minor": 4
}
